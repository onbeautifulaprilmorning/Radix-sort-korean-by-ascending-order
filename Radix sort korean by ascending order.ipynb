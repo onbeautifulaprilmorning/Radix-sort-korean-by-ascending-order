{
  "nbformat": 4,
  "nbformat_minor": 0,
  "metadata": {
    "colab": {
      "name": "HW# Radix Sort 한글 오름차순.ipynb",
      "version": "0.3.2",
      "provenance": [],
      "collapsed_sections": []
    },
    "kernelspec": {
      "name": "python3",
      "display_name": "Python 3"
    }
  },
  "cells": [
    {
      "metadata": {
        "id": "pyIM4YwCJHYh",
        "colab_type": "code",
        "colab": {}
      },
      "cell_type": "code",
      "source": [
        "text = \"이 밤 그날의 반딧불을 당신의 창 가까이 보낼게요 음 사랑한다는 말이에요 \"\n",
        "text += \"나, 우리의 첫 입맞춤을 떠올려 그럼 언제든 눈을 감고 음 가장 먼 곳으로 가요 \"\n",
        "text += \"난 파도가 머물던 모래 위에 적힌 글씨처럼 그대가 멀리 사라져 버릴 것 같아 늘 그리워 그리워 여기 내 맘속에 \"\n",
        "text += \"모든 말을 다 꺼내어 줄 순 없지만 사랑한다는 말이에요\"\n",
        "\n",
        "words = set(text.split(\" \"))\n",
        "words = list(words)\n",
        "words.sort()\n",
        "\n",
        "print(words)"
      ],
      "execution_count": 0,
      "outputs": []
    },
    {
      "metadata": {
        "id": "SXuRuP3wJohj",
        "colab_type": "code",
        "outputId": "9af02405-ee88-4d50-9cd3-8524121b6df8",
        "colab": {
          "base_uri": "https://localhost:8080/",
          "height": 34
        }
      },
      "cell_type": "code",
      "source": [
        "maxlen = 0\n",
        "for word in words:\n",
        "  if len(word) > maxlen:\n",
        "    maxlen = len(word)\n",
        "\n",
        "print(maxlen)\n",
        "    "
      ],
      "execution_count": 0,
      "outputs": [
        {
          "output_type": "stream",
          "text": [
            "5\n"
          ],
          "name": "stdout"
        }
      ]
    },
    {
      "metadata": {
        "id": "QGV1-a2CKauD",
        "colab_type": "code",
        "outputId": "650f334d-da43-4527-a8c3-edb1c82c1cfb",
        "colab": {
          "base_uri": "https://localhost:8080/",
          "height": 54
        }
      },
      "cell_type": "code",
      "source": [
        "# 전체 한글 음절 수 11172개\n",
        "k = 11172 + 1\n",
        "\n",
        "# maxlen = 5 만큼의 list를 갖는 list를 k개 갖는 queue를 만듬\n",
        "for i in range(1, maxlen + 1):\n",
        "  queue = [list() for _ in range(k)]\n",
        "\n",
        "# 단어들을 큐에 배치해야한다. 순서는 각 단어의 마지막 음절부터. 한글 음절의 첫 아스키 코드 번호는 44032(가)\n",
        "# 각 단어의 아스키 코드 에서 \"가\"의 아스키 코드를 빼고 그 번호의 queue에 그 단어를 삽입.\n",
        "# maxlen 만큼 단어를 채우기 위해 남은 만큼 \" \" 삽입.\n",
        "  for word in words:\n",
        "    word += (maxlen - len(word)) * ' '\n",
        "    if ord(word[-i]) >= 44032:   # 아스키코드 번호 44032: \"가\"\n",
        "      queue[ord(word[-i]) - 44032].append(word)\n",
        "    else:\n",
        "      queue[0].append(word)\n",
        "      \n",
        "  words = sum(queue, [])\n",
        "\n",
        "# 비어있는 칸을 채워준다\n",
        "for i in range(len(words)):\n",
        "  words[i] = words[i].replace(\" \", \"\")\n",
        "  \n",
        "print(words)\n",
        "  "
      ],
      "execution_count": 0,
      "outputs": [
        {
          "output_type": "stream",
          "text": [
            "['가까이', '가요', '가장', '감고', '같아', '것', '곳으로', '그날의', '그대가', '그럼', '그리워', '글씨처럼', '꺼내어', '나,', '난', '내', '눈을', '늘', '다', '당신의', '떠올려', '말을', '말이에요', '맘속에', '머물던', '먼', '멀리', '모든', '모래', '반딧불을', '밤', '버릴', '보낼게요', '사라져', '사랑한다는', '순', '언제든', '없지만', '여기', '우리의', '위에', '음', '이', '입맞춤을', '적힌', '줄', '창', '첫', '파도가']\n"
          ],
          "name": "stdout"
        }
      ]
    },
    {
      "metadata": {
        "id": "CcZpXYAKFtPH",
        "colab_type": "code",
        "colab": {}
      },
      "cell_type": "code",
      "source": [
        ""
      ],
      "execution_count": 0,
      "outputs": []
    }
  ]
}